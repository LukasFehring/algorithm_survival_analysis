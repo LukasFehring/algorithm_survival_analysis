{
 "cells": [
  {
   "cell_type": "code",
   "execution_count": 16,
   "metadata": {},
   "outputs": [],
   "source": [
    "from aslib_scenario import ASlibScenario\n",
    "import numpy as np"
   ]
  },
  {
   "cell_type": "code",
   "execution_count": 20,
   "metadata": {},
   "outputs": [
    {
     "name": "stderr",
     "output_type": "stream",
     "text": [
      "Optional file not found: data/aslib_data-master/MIP-2016/ground_truth.arff\n",
      "Have not found algorithm_cutoff_memory\n",
      "Have not found features_stochastic\n"
     ]
    },
    {
     "data": {
      "text/plain": [
       "0"
      ]
     },
     "execution_count": 20,
     "metadata": {},
     "output_type": "execute_result"
    }
   ],
   "source": [
    "scenario = ASlibScenario()\n",
    "scenario.read_scenario('data/aslib_data-master/MIP-2016')\n",
    "scenario.algorithm_cutoff_time\n",
    "over_cutoff = 0\n",
    "for instance in scenario.performance_data.values:\n",
    "    if np.min(instance) >= scenario.algorithm_cutoff_time:\n",
    "        over_cutoff += 1\n",
    "over_cutoff"
   ]
  }
 ],
 "metadata": {
  "interpreter": {
   "hash": "7370613408643aabbce45d25c669427a14be1ec3236964c7ea3ca6bdc9ccfbd2"
  },
  "kernelspec": {
   "display_name": "Python 3.7.9 ('survival_tests')",
   "language": "python",
   "name": "python3"
  },
  "language_info": {
   "codemirror_mode": {
    "name": "ipython",
    "version": 3
   },
   "file_extension": ".py",
   "mimetype": "text/x-python",
   "name": "python",
   "nbconvert_exporter": "python",
   "pygments_lexer": "ipython3",
   "version": "3.7.9"
  },
  "orig_nbformat": 4
 },
 "nbformat": 4,
 "nbformat_minor": 2
}
