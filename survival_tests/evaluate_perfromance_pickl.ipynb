{
 "cells": [
  {
   "cell_type": "code",
   "execution_count": 12,
   "metadata": {},
   "outputs": [
    {
     "data": {
      "text/plain": [
       "{'per_algo_regressor': {'CSP-2010': {1: 0.019632,\n",
       "   2: 0.022079,\n",
       "   3: 0.017788,\n",
       "   4: 0.018582,\n",
       "   5: 0.018881,\n",
       "   6: 0.021035,\n",
       "   7: 0.020097,\n",
       "   8: 0.019088,\n",
       "   9: 0.02105,\n",
       "   10: 0.020963},\n",
       "  'QBF-2016': {1: 0.116265,\n",
       "   2: 0.119134,\n",
       "   3: 0.116413,\n",
       "   4: 0.118709,\n",
       "   5: 0.108384,\n",
       "   6: 0.11335,\n",
       "   7: 0.11035,\n",
       "   8: 0.115889,\n",
       "   9: 0.110858,\n",
       "   10: 0.118816},\n",
       "  'ASP-POTASSCO': {1: 0.136868,\n",
       "   2: 0.140309,\n",
       "   3: 0.131677,\n",
       "   4: 0.138545,\n",
       "   5: 0.135505,\n",
       "   6: 0.126965,\n",
       "   7: 0.134403,\n",
       "   8: 0.129822,\n",
       "   9: 0.119076,\n",
       "   10: 0.127835},\n",
       "  'SAT12-HAND': {1: 0.176115,\n",
       "   2: 0.171498,\n",
       "   3: 0.181332,\n",
       "   4: 0.169152,\n",
       "   5: 0.17017,\n",
       "   6: 0.180051,\n",
       "   7: 0.171407,\n",
       "   8: 0.182228,\n",
       "   9: 0.175115,\n",
       "   10: 0.173437},\n",
       "  'MAXSAT15-PMS-INDU': {1: 0.112986,\n",
       "   2: 0.11263,\n",
       "   3: 0.115154,\n",
       "   4: 0.110583,\n",
       "   5: 0.113195,\n",
       "   6: 0.112796,\n",
       "   7: 0.110741,\n",
       "   8: 0.111295,\n",
       "   9: 0.110491,\n",
       "   10: 0.110482},\n",
       "  'SAT12-INDU': {1: 0.243028,\n",
       "   2: 0.24069,\n",
       "   3: 0.249787,\n",
       "   4: 0.269594,\n",
       "   5: 0.215164,\n",
       "   6: 0.228264,\n",
       "   7: 0.24713,\n",
       "   8: 0.241023,\n",
       "   9: 0.285765,\n",
       "   10: 0.272951},\n",
       "  'CPMP-2015': {1: 0.014497,\n",
       "   2: 0.014105,\n",
       "   3: 0.014056,\n",
       "   4: 0.014059,\n",
       "   5: 0.01414,\n",
       "   6: 0.014199,\n",
       "   7: 0.01412,\n",
       "   8: 0.014184,\n",
       "   9: 0.014001,\n",
       "   10: 0.014131}}}"
      ]
     },
     "execution_count": 12,
     "metadata": {},
     "output_type": "execute_result"
    }
   ],
   "source": [
    "import pickle\n",
    "import numpy as np\n",
    "#np set printoptions suppress\n",
    "np.set_printoptions(suppress=True)\n",
    "with open('performance_data_file.pkl', 'rb') as handle:\n",
    "    b = pickle.load(handle)"
   ]
  },
  {
   "cell_type": "code",
   "execution_count": 13,
   "metadata": {},
   "outputs": [
    {
     "data": {
      "text/plain": [
       "float"
      ]
     },
     "execution_count": 13,
     "metadata": {},
     "output_type": "execute_result"
    }
   ],
   "source": [
    "type(b['per_algo_regressor']['CSP-2010'][1])"
   ]
  }
 ],
 "metadata": {
  "interpreter": {
   "hash": "7370613408643aabbce45d25c669427a14be1ec3236964c7ea3ca6bdc9ccfbd2"
  },
  "kernelspec": {
   "display_name": "Python 3.7.9 ('survival_tests')",
   "language": "python",
   "name": "python3"
  },
  "language_info": {
   "codemirror_mode": {
    "name": "ipython",
    "version": 3
   },
   "file_extension": ".py",
   "mimetype": "text/x-python",
   "name": "python",
   "nbconvert_exporter": "python",
   "pygments_lexer": "ipython3",
   "version": "3.7.9"
  },
  "orig_nbformat": 4
 },
 "nbformat": 4,
 "nbformat_minor": 2
}
